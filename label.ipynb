{
 "cells": [
  {
   "cell_type": "code",
   "execution_count": 12,
   "metadata": {},
   "outputs": [
    {
     "name": "stdout",
     "output_type": "stream",
     "text": [
      "Extracting MNIST_data/train-images-idx3-ubyte.gz\n",
      "Extracting MNIST_data/train-labels-idx1-ubyte.gz\n",
      "Extracting MNIST_data/t10k-images-idx3-ubyte.gz\n",
      "Extracting MNIST_data/t10k-labels-idx1-ubyte.gz\n"
     ]
    }
   ],
   "source": [
    "#coding:utf-8\n",
    "from tensorflow.examples.tutorials.mnist import input_data\n",
    "import numpy as np\n",
    "mnist = input_data.read_data_sets(\"MNIST_data/\", one_hot=True)"
   ]
  },
  {
   "cell_type": "code",
   "execution_count": 13,
   "metadata": {},
   "outputs": [
    {
     "name": "stdout",
     "output_type": "stream",
     "text": [
      "mnist_train_0.jpg label:7\n",
      "mnist_train_1.jpg label:3\n",
      "mnist_train_2.jpg label:4\n",
      "mnist_train_3.jpg label:6\n",
      "mnist_train_4.jpg label:1\n",
      "mnist_train_5.jpg label:8\n",
      "mnist_train_6.jpg label:1\n",
      "mnist_train_7.jpg label:0\n",
      "mnist_train_8.jpg label:9\n",
      "mnist_train_9.jpg label:8\n",
      "mnist_train_10.jpg label:0\n",
      "mnist_train_11.jpg label:3\n",
      "mnist_train_12.jpg label:1\n",
      "mnist_train_13.jpg label:2\n",
      "mnist_train_14.jpg label:7\n",
      "mnist_train_15.jpg label:0\n",
      "mnist_train_16.jpg label:2\n",
      "mnist_train_17.jpg label:9\n",
      "mnist_train_18.jpg label:6\n",
      "mnist_train_19.jpg label:0\n"
     ]
    }
   ],
   "source": [
    "for i in range(20):\n",
    "    one_hot_label=mnist.train.labels[i,:]\n",
    "    label = np.argmax(one_hot_label)\n",
    "    print('mnist_train_%d.jpg label:%d'%(i,label))"
   ]
  }
 ],
 "metadata": {
  "kernelspec": {
   "display_name": "Python 3",
   "language": "python",
   "name": "python3"
  },
  "language_info": {
   "codemirror_mode": {
    "name": "ipython",
    "version": 3
   },
   "file_extension": ".py",
   "mimetype": "text/x-python",
   "name": "python",
   "nbconvert_exporter": "python",
   "pygments_lexer": "ipython3",
   "version": "3.6.8"
  }
 },
 "nbformat": 4,
 "nbformat_minor": 2
}
